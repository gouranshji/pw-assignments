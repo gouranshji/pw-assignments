{
 "cells": [
  {
   "cell_type": "code",
   "execution_count": 6,
   "id": "9e70b226-b541-42bf-a31d-e00932a9d81a",
   "metadata": {},
   "outputs": [
    {
     "name": "stdout",
     "output_type": "stream",
     "text": [
      "40.0\n"
     ]
    }
   ],
   "source": [
    "#convert an integer to a floating-point number.\n",
    "\n",
    "integer_number = 40\n",
    "floating_point  = float(integer_number)\n",
    "print(floating_point)"
   ]
  },
  {
   "cell_type": "code",
   "execution_count": 2,
   "id": "c6cead46-e044-4fea-b2d5-ff9c9bc14303",
   "metadata": {},
   "outputs": [
    {
     "name": "stdout",
     "output_type": "stream",
     "text": [
      "50\n"
     ]
    }
   ],
   "source": [
    "#convert an float to a integer.\n",
    "\n",
    "float_number = 50.8\n",
    "integer_number = int(float_number)\n",
    "print(integer_number)"
   ]
  },
  {
   "cell_type": "code",
   "execution_count": 7,
   "id": "51ba1c86-5624-46bd-aadd-a42f3e6691e8",
   "metadata": {},
   "outputs": [
    {
     "name": "stdout",
     "output_type": "stream",
     "text": [
      "42\n"
     ]
    },
    {
     "data": {
      "text/plain": [
       "str"
      ]
     },
     "execution_count": 7,
     "metadata": {},
     "output_type": "execute_result"
    }
   ],
   "source": [
    "#convert an integer to a string.\n",
    "\n",
    "integer_number = 42\n",
    "string_number = str(integer_number)\n",
    "print(string_number)\n",
    "type(string_number)"
   ]
  },
  {
   "cell_type": "code",
   "execution_count": 3,
   "id": "b334772c-1929-4c0b-88cd-b0c8b28bf3b4",
   "metadata": {},
   "outputs": [
    {
     "name": "stdout",
     "output_type": "stream",
     "text": [
      "(1, 2, 3, 4, 5)\n"
     ]
    }
   ],
   "source": [
    "#convert a list to a tuple\n",
    "\n",
    "my_list = [1,2,3,4,5]\n",
    "my_tuple = tuple(my_list)\n",
    "print(my_tuple)"
   ]
  },
  {
   "cell_type": "code",
   "execution_count": 2,
   "id": "8b989e78-0bfb-4322-b570-208335de0a40",
   "metadata": {},
   "outputs": [
    {
     "name": "stdout",
     "output_type": "stream",
     "text": [
      "[1, 2, 3, 4, 5]\n",
      "[1, 2, 3, 4, 2]\n"
     ]
    }
   ],
   "source": [
    "#convert a tuple to a list\n",
    "\n",
    "my_tuple = (1,2,3,4,5)\n",
    "my_list = list(my_tuple)\n",
    "print(my_list) \n",
    "my_list[4] = 2\n",
    "print(my_list)"
   ]
  },
  {
   "cell_type": "code",
   "execution_count": 7,
   "id": "5c6578f5-9685-4ae9-b4ee-68ea6668db57",
   "metadata": {},
   "outputs": [
    {
     "name": "stdout",
     "output_type": "stream",
     "text": [
      "0b1010\n"
     ]
    }
   ],
   "source": [
    "#convert a decimal number to binary.\n",
    "\n",
    "decimal_number = 10\n",
    "binary_number = bin(decimal_number)\n",
    "print(binary_number)"
   ]
  },
  {
   "cell_type": "code",
   "execution_count": 9,
   "id": "342ddfc4-4ace-40ab-9f43-c9fb7e429ed2",
   "metadata": {},
   "outputs": [
    {
     "name": "stdout",
     "output_type": "stream",
     "text": [
      "42\n"
     ]
    },
    {
     "data": {
      "text/plain": [
       "int"
      ]
     },
     "execution_count": 9,
     "metadata": {},
     "output_type": "execute_result"
    }
   ],
   "source": [
    "#convert a non-zero number to boolean.\n",
    "\n",
    "non_zero_number = 42\n",
    "boolean_value = bool(non_zero_number)\n",
    "print(non_zero_number)\n"
   ]
  },
  {
   "cell_type": "code",
   "execution_count": null,
   "id": "481b96fc-2de5-48a0-9266-a8a42cde2dcd",
   "metadata": {},
   "outputs": [],
   "source": []
  }
 ],
 "metadata": {
  "kernelspec": {
   "display_name": "Python 3 (ipykernel)",
   "language": "python",
   "name": "python3"
  },
  "language_info": {
   "codemirror_mode": {
    "name": "ipython",
    "version": 3
   },
   "file_extension": ".py",
   "mimetype": "text/x-python",
   "name": "python",
   "nbconvert_exporter": "python",
   "pygments_lexer": "ipython3",
   "version": "3.10.8"
  }
 },
 "nbformat": 4,
 "nbformat_minor": 5
}
