{
 "cells": [
  {
   "cell_type": "code",
   "execution_count": 5,
   "id": "b144ddf5-fc22-4dad-89dd-e7628cb3b589",
   "metadata": {},
   "outputs": [
    {
     "name": "stdout",
     "output_type": "stream",
     "text": [
      "sum 25\n",
      "difference 5\n",
      "product 150\n",
      "quotient 0.6666666666666666\n"
     ]
    }
   ],
   "source": [
    "# calculate the sum , difference , product , and quotient of two numbers.\n",
    "\n",
    "num1 = 10\n",
    "num2 = 15\n",
    "\n",
    "#sum\n",
    "sum_result = num1+num2\n",
    "print(\"sum\", sum_result)\n",
    "\n",
    "#difference\n",
    "difference_result = num2-num1\n",
    "print(\"difference\" , difference_result)\n",
    "\n",
    "#product\n",
    "product_result = num1*num2\n",
    "print(\"product\" , product_result)\n",
    "\n",
    "#quotient\n",
    "quotient_result = num1/num2\n",
    "print(\"quotient\", quotient_result)"
   ]
  },
  {
   "cell_type": "code",
   "execution_count": 8,
   "id": "18aecf54-3bb2-4b6c-a7e1-e8febb812881",
   "metadata": {},
   "outputs": [
    {
     "name": "stdout",
     "output_type": "stream",
     "text": [
      "the first number is less than the second number.\n"
     ]
    }
   ],
   "source": [
    "# compare two numbers and print the result.\n",
    "\n",
    "num1=10\n",
    "num2=20\n",
    "\n",
    "if num1 == num2 :\n",
    "    print(\"the numbers are equal.\")\n",
    "    \n",
    "elif num1<num2 :\n",
    "    print(\"the first number is less than the second number.\")\n",
    "\n",
    "else :\n",
    "    print(\"the first number is greater than the second number.\")\n",
    "    "
   ]
  },
  {
   "cell_type": "code",
   "execution_count": 12,
   "id": "a21f04ef-8d9f-4481-9a42-918f61030d40",
   "metadata": {},
   "outputs": [
    {
     "name": "stdout",
     "output_type": "stream",
     "text": [
      "both conditions are true : num1 is less than 20 and num2 is greater than 10.\n",
      "at least one of the condition is true : num1 is equal to 10 or num2 is equal to 15.\n",
      "the numbers are not equal.\n"
     ]
    }
   ],
   "source": [
    "# check conditions using logical operations.\n",
    "\n",
    "num1=10\n",
    "num2=20\n",
    "\n",
    "if num1<20 and num2 > 10:\n",
    "    print(\"both conditions are true : num1 is less than 20 and num2 is greater than 10.\")\n",
    "else:\n",
    "    print(\"at least one condition is false.\")\n",
    "if num1==10 or num2==15 :\n",
    "    print(\"at least one of the condition is true : num1 is equal to 10 or num2 is equal to 15.\")\n",
    "else:\n",
    "    print(\"both conditions are false\")\n",
    "if not (num1==num2):\n",
    "    print(\"the numbers are not equal.\")\n",
    "else:\n",
    "    print(\"the numbers are equal.\")\n",
    "        \n",
    "    "
   ]
  },
  {
   "cell_type": "code",
   "execution_count": 8,
   "id": "d69bb0c3-2002-4ae4-ac0c-2de90dc1775e",
   "metadata": {},
   "outputs": [
    {
     "name": "stdout",
     "output_type": "stream",
     "text": [
      "ver1 and ver2 are different.\n",
      "ver1 and ver2 have the same value.\n"
     ]
    }
   ],
   "source": [
    "# check the identity of variable.\n",
    "\n",
    "ver1 = [1,2,3]\n",
    "ver2 = [1,2,3]\n",
    "\n",
    "if ver1 is ver2:\n",
    "    print(\"ver1 and ver2 are the same.\")\n",
    "else:\n",
    "    print(\"ver1 and ver2 are different.\")\n",
    " \n",
    " # check ver1 and the ver2 have the same value.\n",
    "    \n",
    "if ver1==ver2:\n",
    "    print(\"ver1 and ver2 have the same value.\")\n",
    "else:\n",
    "    print(\"ver1 and ver2 have different value.\")\n",
    "          "
   ]
  },
  {
   "cell_type": "code",
   "execution_count": 12,
   "id": "58acf447-7bb3-49ca-9c96-22553fd4c7d1",
   "metadata": {},
   "outputs": [
    {
     "name": "stdout",
     "output_type": "stream",
     "text": [
      "original number: 10\n",
      "number with changed sign: -10\n"
     ]
    }
   ],
   "source": [
    "#use unary operators to change the sign of a number.\n",
    "\n",
    "num=10\n",
    "num_neg=-num\n",
    "print(\"original number:\",num)\n",
    "print(\"number with changed sign:\",num_neg)\n",
    "\n"
   ]
  },
  {
   "cell_type": "code",
   "execution_count": 15,
   "id": "008a9159-81c6-468a-a4ad-d03bad83d23e",
   "metadata": {},
   "outputs": [
    {
     "name": "stdout",
     "output_type": "stream",
     "text": [
      "adult\n"
     ]
    }
   ],
   "source": [
    "#use the ternary operators to assining values based on conditions.\n",
    "\n",
    "age = 20\n",
    "category = \"adult\" if age >= 18 else \"child\"\n",
    "print(category)\n"
   ]
  },
  {
   "cell_type": "code",
   "execution_count": 1,
   "id": "44def9d2-6f8f-46e5-a44d-ff487ed30219",
   "metadata": {},
   "outputs": [
    {
     "name": "stdout",
     "output_type": "stream",
     "text": [
      "Initial value of x: 10\n",
      "After assignment, x is now: 5\n",
      "After addition assignment, x is now: 8\n",
      "After subtraction assignment, x is now: 6\n",
      "After multiplication assignment, x is now: 24\n",
      "After division assignment, x is now: 12.0\n",
      "After exponentiation assignment, x is now: 1728.0\n",
      "After modulus assignment, x is now: 3.0\n"
     ]
    }
   ],
   "source": [
    "#perform various assignment operations on a variable.\n",
    "\n",
    "# Initialize variable\n",
    "x = 10\n",
    "print(\"Initial value of x:\", x)\n",
    "\n",
    "# Assignment\n",
    "x = 5\n",
    "print(\"After assignment, x is now:\", x)\n",
    "\n",
    "# Addition assignment\n",
    "x += 3\n",
    "print(\"After addition assignment, x is now:\", x)\n",
    "\n",
    "# Subtraction assignment\n",
    "x -= 2\n",
    "print(\"After subtraction assignment, x is now:\", x)\n",
    "\n",
    "# Multiplication assignment\n",
    "x *= 4\n",
    "print(\"After multiplication assignment, x is now:\", x)\n",
    "\n",
    "# Division assignment\n",
    "x /= 2\n",
    "print(\"After division assignment, x is now:\", x)\n",
    "\n",
    "# Exponentiation assignment\n",
    "x **= 3\n",
    "print(\"After exponentiation assignment, x is now:\", x)\n",
    "\n",
    "# Modulus assignment\n",
    "x %= 5\n",
    "print(\"After modulus assignment, x is now:\", x)\n"
   ]
  },
  {
   "cell_type": "code",
   "execution_count": null,
   "id": "c594b47f-c6ac-443d-b7a1-8d40dd109121",
   "metadata": {},
   "outputs": [],
   "source": [
    "#perform 'binary operations on any two integers .\n"
   ]
  }
 ],
 "metadata": {
  "kernelspec": {
   "display_name": "Python 3 (ipykernel)",
   "language": "python",
   "name": "python3"
  },
  "language_info": {
   "codemirror_mode": {
    "name": "ipython",
    "version": 3
   },
   "file_extension": ".py",
   "mimetype": "text/x-python",
   "name": "python",
   "nbconvert_exporter": "python",
   "pygments_lexer": "ipython3",
   "version": "3.10.8"
  }
 },
 "nbformat": 4,
 "nbformat_minor": 5
}
